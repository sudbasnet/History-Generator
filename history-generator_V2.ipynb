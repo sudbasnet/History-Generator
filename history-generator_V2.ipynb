{
 "cells": [
  {
   "cell_type": "code",
   "execution_count": 1,
   "metadata": {},
   "outputs": [
    {
     "data": {
      "text/html": [
       "\n",
       "    <div class=\"bk-root\">\n",
       "        <a href=\"https://bokeh.org\" target=\"_blank\" class=\"bk-logo bk-logo-small bk-logo-notebook\"></a>\n",
       "        <span id=\"1001\">Loading BokehJS ...</span>\n",
       "    </div>"
      ]
     },
     "metadata": {},
     "output_type": "display_data"
    },
    {
     "data": {
      "application/javascript": [
       "\n",
       "(function(root) {\n",
       "  function now() {\n",
       "    return new Date();\n",
       "  }\n",
       "\n",
       "  var force = true;\n",
       "\n",
       "  if (typeof root._bokeh_onload_callbacks === \"undefined\" || force === true) {\n",
       "    root._bokeh_onload_callbacks = [];\n",
       "    root._bokeh_is_loading = undefined;\n",
       "  }\n",
       "\n",
       "  var JS_MIME_TYPE = 'application/javascript';\n",
       "  var HTML_MIME_TYPE = 'text/html';\n",
       "  var EXEC_MIME_TYPE = 'application/vnd.bokehjs_exec.v0+json';\n",
       "  var CLASS_NAME = 'output_bokeh rendered_html';\n",
       "\n",
       "  /**\n",
       "   * Render data to the DOM node\n",
       "   */\n",
       "  function render(props, node) {\n",
       "    var script = document.createElement(\"script\");\n",
       "    node.appendChild(script);\n",
       "  }\n",
       "\n",
       "  /**\n",
       "   * Handle when an output is cleared or removed\n",
       "   */\n",
       "  function handleClearOutput(event, handle) {\n",
       "    var cell = handle.cell;\n",
       "\n",
       "    var id = cell.output_area._bokeh_element_id;\n",
       "    var server_id = cell.output_area._bokeh_server_id;\n",
       "    // Clean up Bokeh references\n",
       "    if (id != null && id in Bokeh.index) {\n",
       "      Bokeh.index[id].model.document.clear();\n",
       "      delete Bokeh.index[id];\n",
       "    }\n",
       "\n",
       "    if (server_id !== undefined) {\n",
       "      // Clean up Bokeh references\n",
       "      var cmd = \"from bokeh.io.state import curstate; print(curstate().uuid_to_server['\" + server_id + \"'].get_sessions()[0].document.roots[0]._id)\";\n",
       "      cell.notebook.kernel.execute(cmd, {\n",
       "        iopub: {\n",
       "          output: function(msg) {\n",
       "            var id = msg.content.text.trim();\n",
       "            if (id in Bokeh.index) {\n",
       "              Bokeh.index[id].model.document.clear();\n",
       "              delete Bokeh.index[id];\n",
       "            }\n",
       "          }\n",
       "        }\n",
       "      });\n",
       "      // Destroy server and session\n",
       "      var cmd = \"import bokeh.io.notebook as ion; ion.destroy_server('\" + server_id + \"')\";\n",
       "      cell.notebook.kernel.execute(cmd);\n",
       "    }\n",
       "  }\n",
       "\n",
       "  /**\n",
       "   * Handle when a new output is added\n",
       "   */\n",
       "  function handleAddOutput(event, handle) {\n",
       "    var output_area = handle.output_area;\n",
       "    var output = handle.output;\n",
       "\n",
       "    // limit handleAddOutput to display_data with EXEC_MIME_TYPE content only\n",
       "    if ((output.output_type != \"display_data\") || (!output.data.hasOwnProperty(EXEC_MIME_TYPE))) {\n",
       "      return\n",
       "    }\n",
       "\n",
       "    var toinsert = output_area.element.find(\".\" + CLASS_NAME.split(' ')[0]);\n",
       "\n",
       "    if (output.metadata[EXEC_MIME_TYPE][\"id\"] !== undefined) {\n",
       "      toinsert[toinsert.length - 1].firstChild.textContent = output.data[JS_MIME_TYPE];\n",
       "      // store reference to embed id on output_area\n",
       "      output_area._bokeh_element_id = output.metadata[EXEC_MIME_TYPE][\"id\"];\n",
       "    }\n",
       "    if (output.metadata[EXEC_MIME_TYPE][\"server_id\"] !== undefined) {\n",
       "      var bk_div = document.createElement(\"div\");\n",
       "      bk_div.innerHTML = output.data[HTML_MIME_TYPE];\n",
       "      var script_attrs = bk_div.children[0].attributes;\n",
       "      for (var i = 0; i < script_attrs.length; i++) {\n",
       "        toinsert[toinsert.length - 1].firstChild.setAttribute(script_attrs[i].name, script_attrs[i].value);\n",
       "        toinsert[toinsert.length - 1].firstChild.textContent = bk_div.children[0].textContent\n",
       "      }\n",
       "      // store reference to server id on output_area\n",
       "      output_area._bokeh_server_id = output.metadata[EXEC_MIME_TYPE][\"server_id\"];\n",
       "    }\n",
       "  }\n",
       "\n",
       "  function register_renderer(events, OutputArea) {\n",
       "\n",
       "    function append_mime(data, metadata, element) {\n",
       "      // create a DOM node to render to\n",
       "      var toinsert = this.create_output_subarea(\n",
       "        metadata,\n",
       "        CLASS_NAME,\n",
       "        EXEC_MIME_TYPE\n",
       "      );\n",
       "      this.keyboard_manager.register_events(toinsert);\n",
       "      // Render to node\n",
       "      var props = {data: data, metadata: metadata[EXEC_MIME_TYPE]};\n",
       "      render(props, toinsert[toinsert.length - 1]);\n",
       "      element.append(toinsert);\n",
       "      return toinsert\n",
       "    }\n",
       "\n",
       "    /* Handle when an output is cleared or removed */\n",
       "    events.on('clear_output.CodeCell', handleClearOutput);\n",
       "    events.on('delete.Cell', handleClearOutput);\n",
       "\n",
       "    /* Handle when a new output is added */\n",
       "    events.on('output_added.OutputArea', handleAddOutput);\n",
       "\n",
       "    /**\n",
       "     * Register the mime type and append_mime function with output_area\n",
       "     */\n",
       "    OutputArea.prototype.register_mime_type(EXEC_MIME_TYPE, append_mime, {\n",
       "      /* Is output safe? */\n",
       "      safe: true,\n",
       "      /* Index of renderer in `output_area.display_order` */\n",
       "      index: 0\n",
       "    });\n",
       "  }\n",
       "\n",
       "  // register the mime type if in Jupyter Notebook environment and previously unregistered\n",
       "  if (root.Jupyter !== undefined) {\n",
       "    var events = require('base/js/events');\n",
       "    var OutputArea = require('notebook/js/outputarea').OutputArea;\n",
       "\n",
       "    if (OutputArea.prototype.mime_types().indexOf(EXEC_MIME_TYPE) == -1) {\n",
       "      register_renderer(events, OutputArea);\n",
       "    }\n",
       "  }\n",
       "\n",
       "  \n",
       "  if (typeof (root._bokeh_timeout) === \"undefined\" || force === true) {\n",
       "    root._bokeh_timeout = Date.now() + 5000;\n",
       "    root._bokeh_failed_load = false;\n",
       "  }\n",
       "\n",
       "  var NB_LOAD_WARNING = {'data': {'text/html':\n",
       "     \"<div style='background-color: #fdd'>\\n\"+\n",
       "     \"<p>\\n\"+\n",
       "     \"BokehJS does not appear to have successfully loaded. If loading BokehJS from CDN, this \\n\"+\n",
       "     \"may be due to a slow or bad network connection. Possible fixes:\\n\"+\n",
       "     \"</p>\\n\"+\n",
       "     \"<ul>\\n\"+\n",
       "     \"<li>re-rerun `output_notebook()` to attempt to load from CDN again, or</li>\\n\"+\n",
       "     \"<li>use INLINE resources instead, as so:</li>\\n\"+\n",
       "     \"</ul>\\n\"+\n",
       "     \"<code>\\n\"+\n",
       "     \"from bokeh.resources import INLINE\\n\"+\n",
       "     \"output_notebook(resources=INLINE)\\n\"+\n",
       "     \"</code>\\n\"+\n",
       "     \"</div>\"}};\n",
       "\n",
       "  function display_loaded() {\n",
       "    var el = document.getElementById(\"1001\");\n",
       "    if (el != null) {\n",
       "      el.textContent = \"BokehJS is loading...\";\n",
       "    }\n",
       "    if (root.Bokeh !== undefined) {\n",
       "      if (el != null) {\n",
       "        el.textContent = \"BokehJS \" + root.Bokeh.version + \" successfully loaded.\";\n",
       "      }\n",
       "    } else if (Date.now() < root._bokeh_timeout) {\n",
       "      setTimeout(display_loaded, 100)\n",
       "    }\n",
       "  }\n",
       "\n",
       "\n",
       "  function run_callbacks() {\n",
       "    try {\n",
       "      root._bokeh_onload_callbacks.forEach(function(callback) {\n",
       "        if (callback != null)\n",
       "          callback();\n",
       "      });\n",
       "    } finally {\n",
       "      delete root._bokeh_onload_callbacks\n",
       "    }\n",
       "    console.debug(\"Bokeh: all callbacks have finished\");\n",
       "  }\n",
       "\n",
       "  function load_libs(css_urls, js_urls, callback) {\n",
       "    if (css_urls == null) css_urls = [];\n",
       "    if (js_urls == null) js_urls = [];\n",
       "\n",
       "    root._bokeh_onload_callbacks.push(callback);\n",
       "    if (root._bokeh_is_loading > 0) {\n",
       "      console.debug(\"Bokeh: BokehJS is being loaded, scheduling callback at\", now());\n",
       "      return null;\n",
       "    }\n",
       "    if (js_urls == null || js_urls.length === 0) {\n",
       "      run_callbacks();\n",
       "      return null;\n",
       "    }\n",
       "    console.debug(\"Bokeh: BokehJS not loaded, scheduling load and callback at\", now());\n",
       "    root._bokeh_is_loading = css_urls.length + js_urls.length;\n",
       "\n",
       "    function on_load() {\n",
       "      root._bokeh_is_loading--;\n",
       "      if (root._bokeh_is_loading === 0) {\n",
       "        console.debug(\"Bokeh: all BokehJS libraries/stylesheets loaded\");\n",
       "        run_callbacks()\n",
       "      }\n",
       "    }\n",
       "\n",
       "    function on_error() {\n",
       "      console.error(\"failed to load \" + url);\n",
       "    }\n",
       "\n",
       "    for (var i = 0; i < css_urls.length; i++) {\n",
       "      var url = css_urls[i];\n",
       "      const element = document.createElement(\"link\");\n",
       "      element.onload = on_load;\n",
       "      element.onerror = on_error;\n",
       "      element.rel = \"stylesheet\";\n",
       "      element.type = \"text/css\";\n",
       "      element.href = url;\n",
       "      console.debug(\"Bokeh: injecting link tag for BokehJS stylesheet: \", url);\n",
       "      document.body.appendChild(element);\n",
       "    }\n",
       "\n",
       "    for (var i = 0; i < js_urls.length; i++) {\n",
       "      var url = js_urls[i];\n",
       "      var element = document.createElement('script');\n",
       "      element.onload = on_load;\n",
       "      element.onerror = on_error;\n",
       "      element.async = false;\n",
       "      element.src = url;\n",
       "      \n",
       "      console.debug(\"Bokeh: injecting script tag for BokehJS library: \", url);\n",
       "      document.head.appendChild(element);\n",
       "    }\n",
       "  };var element = document.getElementById(\"1001\");\n",
       "  if (element == null) {\n",
       "    console.error(\"Bokeh: ERROR: autoload.js configured with elementid '1001' but no matching script tag was found. \")\n",
       "    return false;\n",
       "  }\n",
       "\n",
       "  function inject_raw_css(css) {\n",
       "    const element = document.createElement(\"style\");\n",
       "    element.appendChild(document.createTextNode(css));\n",
       "    document.body.appendChild(element);\n",
       "  }\n",
       "\n",
       "  \n",
       "  var js_urls = [\"https://cdn.bokeh.org/bokeh/release/bokeh-2.0.0.min.js\", \"https://cdn.bokeh.org/bokeh/release/bokeh-widgets-2.0.0.min.js\", \"https://cdn.bokeh.org/bokeh/release/bokeh-tables-2.0.0.min.js\", \"https://cdn.bokeh.org/bokeh/release/bokeh-gl-2.0.0.min.js\"];\n",
       "  var css_urls = [];\n",
       "  \n",
       "\n",
       "  var inline_js = [\n",
       "    function(Bokeh) {\n",
       "      Bokeh.set_log_level(\"info\");\n",
       "    },\n",
       "    function(Bokeh) {\n",
       "    \n",
       "    \n",
       "    }\n",
       "  ];\n",
       "\n",
       "  function run_inline_js() {\n",
       "    \n",
       "    if (root.Bokeh !== undefined || force === true) {\n",
       "      \n",
       "    for (var i = 0; i < inline_js.length; i++) {\n",
       "      inline_js[i].call(root, root.Bokeh);\n",
       "    }\n",
       "    if (force === true) {\n",
       "        display_loaded();\n",
       "      }} else if (Date.now() < root._bokeh_timeout) {\n",
       "      setTimeout(run_inline_js, 100);\n",
       "    } else if (!root._bokeh_failed_load) {\n",
       "      console.log(\"Bokeh: BokehJS failed to load within specified timeout.\");\n",
       "      root._bokeh_failed_load = true;\n",
       "    } else if (force !== true) {\n",
       "      var cell = $(document.getElementById(\"1001\")).parents('.cell').data().cell;\n",
       "      cell.output_area.append_execute_result(NB_LOAD_WARNING)\n",
       "    }\n",
       "\n",
       "  }\n",
       "\n",
       "  if (root._bokeh_is_loading === 0) {\n",
       "    console.debug(\"Bokeh: BokehJS loaded, going straight to plotting\");\n",
       "    run_inline_js();\n",
       "  } else {\n",
       "    load_libs(css_urls, js_urls, function() {\n",
       "      console.debug(\"Bokeh: BokehJS plotting callback run at\", now());\n",
       "      run_inline_js();\n",
       "    });\n",
       "  }\n",
       "}(window));"
      ],
      "application/vnd.bokehjs_load.v0+json": "\n(function(root) {\n  function now() {\n    return new Date();\n  }\n\n  var force = true;\n\n  if (typeof root._bokeh_onload_callbacks === \"undefined\" || force === true) {\n    root._bokeh_onload_callbacks = [];\n    root._bokeh_is_loading = undefined;\n  }\n\n  \n\n  \n  if (typeof (root._bokeh_timeout) === \"undefined\" || force === true) {\n    root._bokeh_timeout = Date.now() + 5000;\n    root._bokeh_failed_load = false;\n  }\n\n  var NB_LOAD_WARNING = {'data': {'text/html':\n     \"<div style='background-color: #fdd'>\\n\"+\n     \"<p>\\n\"+\n     \"BokehJS does not appear to have successfully loaded. If loading BokehJS from CDN, this \\n\"+\n     \"may be due to a slow or bad network connection. Possible fixes:\\n\"+\n     \"</p>\\n\"+\n     \"<ul>\\n\"+\n     \"<li>re-rerun `output_notebook()` to attempt to load from CDN again, or</li>\\n\"+\n     \"<li>use INLINE resources instead, as so:</li>\\n\"+\n     \"</ul>\\n\"+\n     \"<code>\\n\"+\n     \"from bokeh.resources import INLINE\\n\"+\n     \"output_notebook(resources=INLINE)\\n\"+\n     \"</code>\\n\"+\n     \"</div>\"}};\n\n  function display_loaded() {\n    var el = document.getElementById(\"1001\");\n    if (el != null) {\n      el.textContent = \"BokehJS is loading...\";\n    }\n    if (root.Bokeh !== undefined) {\n      if (el != null) {\n        el.textContent = \"BokehJS \" + root.Bokeh.version + \" successfully loaded.\";\n      }\n    } else if (Date.now() < root._bokeh_timeout) {\n      setTimeout(display_loaded, 100)\n    }\n  }\n\n\n  function run_callbacks() {\n    try {\n      root._bokeh_onload_callbacks.forEach(function(callback) {\n        if (callback != null)\n          callback();\n      });\n    } finally {\n      delete root._bokeh_onload_callbacks\n    }\n    console.debug(\"Bokeh: all callbacks have finished\");\n  }\n\n  function load_libs(css_urls, js_urls, callback) {\n    if (css_urls == null) css_urls = [];\n    if (js_urls == null) js_urls = [];\n\n    root._bokeh_onload_callbacks.push(callback);\n    if (root._bokeh_is_loading > 0) {\n      console.debug(\"Bokeh: BokehJS is being loaded, scheduling callback at\", now());\n      return null;\n    }\n    if (js_urls == null || js_urls.length === 0) {\n      run_callbacks();\n      return null;\n    }\n    console.debug(\"Bokeh: BokehJS not loaded, scheduling load and callback at\", now());\n    root._bokeh_is_loading = css_urls.length + js_urls.length;\n\n    function on_load() {\n      root._bokeh_is_loading--;\n      if (root._bokeh_is_loading === 0) {\n        console.debug(\"Bokeh: all BokehJS libraries/stylesheets loaded\");\n        run_callbacks()\n      }\n    }\n\n    function on_error() {\n      console.error(\"failed to load \" + url);\n    }\n\n    for (var i = 0; i < css_urls.length; i++) {\n      var url = css_urls[i];\n      const element = document.createElement(\"link\");\n      element.onload = on_load;\n      element.onerror = on_error;\n      element.rel = \"stylesheet\";\n      element.type = \"text/css\";\n      element.href = url;\n      console.debug(\"Bokeh: injecting link tag for BokehJS stylesheet: \", url);\n      document.body.appendChild(element);\n    }\n\n    for (var i = 0; i < js_urls.length; i++) {\n      var url = js_urls[i];\n      var element = document.createElement('script');\n      element.onload = on_load;\n      element.onerror = on_error;\n      element.async = false;\n      element.src = url;\n      \n      console.debug(\"Bokeh: injecting script tag for BokehJS library: \", url);\n      document.head.appendChild(element);\n    }\n  };var element = document.getElementById(\"1001\");\n  if (element == null) {\n    console.error(\"Bokeh: ERROR: autoload.js configured with elementid '1001' but no matching script tag was found. \")\n    return false;\n  }\n\n  function inject_raw_css(css) {\n    const element = document.createElement(\"style\");\n    element.appendChild(document.createTextNode(css));\n    document.body.appendChild(element);\n  }\n\n  \n  var js_urls = [\"https://cdn.bokeh.org/bokeh/release/bokeh-2.0.0.min.js\", \"https://cdn.bokeh.org/bokeh/release/bokeh-widgets-2.0.0.min.js\", \"https://cdn.bokeh.org/bokeh/release/bokeh-tables-2.0.0.min.js\", \"https://cdn.bokeh.org/bokeh/release/bokeh-gl-2.0.0.min.js\"];\n  var css_urls = [];\n  \n\n  var inline_js = [\n    function(Bokeh) {\n      Bokeh.set_log_level(\"info\");\n    },\n    function(Bokeh) {\n    \n    \n    }\n  ];\n\n  function run_inline_js() {\n    \n    if (root.Bokeh !== undefined || force === true) {\n      \n    for (var i = 0; i < inline_js.length; i++) {\n      inline_js[i].call(root, root.Bokeh);\n    }\n    if (force === true) {\n        display_loaded();\n      }} else if (Date.now() < root._bokeh_timeout) {\n      setTimeout(run_inline_js, 100);\n    } else if (!root._bokeh_failed_load) {\n      console.log(\"Bokeh: BokehJS failed to load within specified timeout.\");\n      root._bokeh_failed_load = true;\n    } else if (force !== true) {\n      var cell = $(document.getElementById(\"1001\")).parents('.cell').data().cell;\n      cell.output_area.append_execute_result(NB_LOAD_WARNING)\n    }\n\n  }\n\n  if (root._bokeh_is_loading === 0) {\n    console.debug(\"Bokeh: BokehJS loaded, going straight to plotting\");\n    run_inline_js();\n  } else {\n    load_libs(css_urls, js_urls, function() {\n      console.debug(\"Bokeh: BokehJS plotting callback run at\", now());\n      run_inline_js();\n    });\n  }\n}(window));"
     },
     "metadata": {},
     "output_type": "display_data"
    }
   ],
   "source": [
    "# import required libraries and modules\n",
    "import pandas as pd\n",
    "import numpy as np\n",
    "from datetime import date, datetime\n",
    "from dateutil.relativedelta import *\n",
    "from random import random, randint\n",
    "\n",
    "from bokeh.io import output_notebook, show, push_notebook\n",
    "from bokeh.layouts import column, row\n",
    "from bokeh.plotting import figure\n",
    "from bokeh.models import CustomJS, ColumnDataSource, Slider\n",
    "output_notebook()\n",
    "\n",
    "from ipywidgets import interact, interactive\n",
    "import ipywidgets as widgets\n",
    "from IPython.display import display, HTML"
   ]
  },
  {
   "cell_type": "code",
   "execution_count": 2,
   "metadata": {},
   "outputs": [],
   "source": [
    "def updateTrend(trendType, x, **kwargs):\n",
    "    if trendType == 'Linear':\n",
    "        m, c = kwargs['m'], kwargs['c']\n",
    "        return m * x + c\n",
    "    elif trendType == 'Curve':\n",
    "        a, b, c = kwargs['a'], kwargs['b'], kwargs['c']\n",
    "        return a*x*x + b*x + c \n",
    "    return c\n",
    "\n",
    "def updateTrendPlot(level, startdate, intervalType, intervals):\n",
    "    dateDelta = relativedelta(years = 1 if intervalType =='Years' else 0,\n",
    "                          months = 1 if intervalType =='Months' else 0,\n",
    "                          weeks = 1 if intervalType =='Weeks' else 0)\n",
    "    r.data_source.data['x'] = [startdate + dateDelta * n for n in range(intervals)]\n",
    "    r.data_source.data['y'] = [level for i in range(intervals)]\n",
    "    push_notebook()"
   ]
  },
  {
   "cell_type": "code",
   "execution_count": 3,
   "metadata": {
    "scrolled": true
   },
   "outputs": [],
   "source": [
    "style = {'description_width': '100px'}\n",
    "\n",
    "# base, starting number of items sold on week-0\n",
    "level = widgets.IntText(value=100, description='Level')\n",
    "\n",
    "# starting date of the data-set, picked at random\n",
    "startdate = widgets.DatePicker(value=date(2008, 1, 1), description='StartDate')\n",
    "\n",
    "# weeks, months, years\n",
    "intervalType = widgets.Dropdown(options=[('Years'),('Months'),('Weeks')], value='Months', description='Interval Type')\n",
    "\n",
    "# starting date of the data-set, picked at random\n",
    "intervals = widgets.IntText(value=10, description='Intervals', disabled=False)\n",
    "\n",
    "# type of trend\n",
    "trend = widgets.Dropdown(options=[('Constant'),('Linear'),('Curve')], value='Constant', description='Trend')\n"
   ]
  },
  {
   "cell_type": "code",
   "execution_count": 15,
   "metadata": {},
   "outputs": [],
   "source": [
    "def updateBasePlot(level, startdate, intervalType, intervals):\n",
    "    dateDelta = relativedelta(years = 1 if intervalType =='Years' else 0,\n",
    "                          months = 1 if intervalType =='Months' else 0,\n",
    "                          weeks = 1 if intervalType =='Weeks' else 0)\n",
    "    startdate = datetime(startdate.year, startdate.month, startdate.day)\n",
    "    r.data_source.data['x'] = [(startdate + dateDelta * n) for n in range(intervals)]\n",
    "    r.data_source.data['y'] = [level for n in range(intervals)]\n",
    "    push_notebook()\n",
    "    \n",
    "\n",
    "# bokeh's internal range setting doesn't allow datetime.date, it needs datetime.datetime\n",
    "startdatetime = datetime(startdate.value.year, startdate.value.month, startdate.value.day)\n",
    "\n",
    "# setting default values for the plot\n",
    "dateDelta = relativedelta(months = 1)\n",
    "x = [startdatetime + dateDelta * n for n in range(intervals.value)]\n",
    "y = [level.value for n in range(intervals.value)]\n",
    "s1 = ColumnDataSource(data=dict(x=x, y=y))\n",
    "\n",
    "# create the plot\n",
    "p = figure(x_axis_type=\"datetime\", plot_width=720, plot_height = 200, title = '01. Default Sales Data')\n",
    "r = p.line(x='x', y='y', source=s1, line_width=2)"
   ]
  },
  {
   "cell_type": "code",
   "execution_count": 16,
   "metadata": {},
   "outputs": [
    {
     "data": {
      "text/html": [
       "<h2>Setting up the starting values<h2>"
      ],
      "text/plain": [
       "<IPython.core.display.HTML object>"
      ]
     },
     "metadata": {},
     "output_type": "display_data"
    },
    {
     "data": {
      "text/html": [
       "\n",
       "\n",
       "\n",
       "\n",
       "\n",
       "\n",
       "  <div class=\"bk-root\" id=\"a3dc16a0-a1b4-4694-a669-814254f739f2\" data-root-id=\"1652\"></div>\n"
      ]
     },
     "metadata": {},
     "output_type": "display_data"
    },
    {
     "data": {
      "application/javascript": [
       "(function(root) {\n",
       "  function embed_document(root) {\n",
       "    \n",
       "  var docs_json = {\"e71fba2d-01bd-4ef7-8f88-eb74c1671933\":{\"roots\":{\"references\":[{\"attributes\":{\"below\":[{\"id\":\"1663\"}],\"center\":[{\"id\":\"1666\"},{\"id\":\"1670\"}],\"left\":[{\"id\":\"1667\"}],\"plot_height\":200,\"plot_width\":720,\"renderers\":[{\"id\":\"1687\"}],\"title\":{\"id\":\"1653\"},\"toolbar\":{\"id\":\"1677\"},\"x_range\":{\"id\":\"1655\"},\"x_scale\":{\"id\":\"1659\"},\"y_range\":{\"id\":\"1657\"},\"y_scale\":{\"id\":\"1661\"}},\"id\":\"1652\",\"subtype\":\"Figure\",\"type\":\"Plot\"},{\"attributes\":{\"overlay\":{\"id\":\"1748\"}},\"id\":\"1673\",\"type\":\"BoxZoomTool\"},{\"attributes\":{\"formatter\":{\"id\":\"1732\"},\"ticker\":{\"id\":\"1668\"}},\"id\":\"1667\",\"type\":\"LinearAxis\"},{\"attributes\":{\"axis\":{\"id\":\"1667\"},\"dimension\":1,\"ticker\":null},\"id\":\"1670\",\"type\":\"Grid\"},{\"attributes\":{},\"id\":\"1730\",\"type\":\"DatetimeTickFormatter\"},{\"attributes\":{},\"id\":\"1735\",\"type\":\"Selection\"},{\"attributes\":{\"months\":[0,1,2,3,4,5,6,7,8,9,10,11]},\"id\":\"1743\",\"type\":\"MonthsTicker\"},{\"attributes\":{\"months\":[0,6]},\"id\":\"1746\",\"type\":\"MonthsTicker\"},{\"attributes\":{},\"id\":\"1734\",\"type\":\"UnionRenderers\"},{\"attributes\":{\"active_drag\":\"auto\",\"active_inspect\":\"auto\",\"active_multi\":null,\"active_scroll\":\"auto\",\"active_tap\":\"auto\",\"tools\":[{\"id\":\"1671\"},{\"id\":\"1672\"},{\"id\":\"1673\"},{\"id\":\"1674\"},{\"id\":\"1675\"},{\"id\":\"1676\"}]},\"id\":\"1677\",\"type\":\"Toolbar\"},{\"attributes\":{\"bottom_units\":\"screen\",\"fill_alpha\":0.5,\"fill_color\":\"lightgrey\",\"left_units\":\"screen\",\"level\":\"overlay\",\"line_alpha\":1.0,\"line_color\":\"black\",\"line_dash\":[4,4],\"line_width\":2,\"render_mode\":\"css\",\"right_units\":\"screen\",\"top_units\":\"screen\"},\"id\":\"1748\",\"type\":\"BoxAnnotation\"},{\"attributes\":{\"months\":[0,2,4,6,8,10]},\"id\":\"1744\",\"type\":\"MonthsTicker\"},{\"attributes\":{\"base\":60,\"mantissas\":[1,2,5,10,15,20,30],\"max_interval\":1800000.0,\"min_interval\":1000.0,\"num_minor_ticks\":0},\"id\":\"1737\",\"type\":\"AdaptiveTicker\"},{\"attributes\":{\"days\":[1,2,3,4,5,6,7,8,9,10,11,12,13,14,15,16,17,18,19,20,21,22,23,24,25,26,27,28,29,30,31]},\"id\":\"1739\",\"type\":\"DaysTicker\"},{\"attributes\":{\"formatter\":{\"id\":\"1730\"},\"ticker\":{\"id\":\"1664\"}},\"id\":\"1663\",\"type\":\"DatetimeAxis\"},{\"attributes\":{},\"id\":\"1661\",\"type\":\"LinearScale\"},{\"attributes\":{\"days\":[1,8,15,22]},\"id\":\"1741\",\"type\":\"DaysTicker\"},{\"attributes\":{\"days\":[1,4,7,10,13,16,19,22,25,28]},\"id\":\"1740\",\"type\":\"DaysTicker\"},{\"attributes\":{\"axis\":{\"id\":\"1663\"},\"ticker\":null},\"id\":\"1666\",\"type\":\"Grid\"},{\"attributes\":{},\"id\":\"1671\",\"type\":\"PanTool\"},{\"attributes\":{\"num_minor_ticks\":5,\"tickers\":[{\"id\":\"1736\"},{\"id\":\"1737\"},{\"id\":\"1738\"},{\"id\":\"1739\"},{\"id\":\"1740\"},{\"id\":\"1741\"},{\"id\":\"1742\"},{\"id\":\"1743\"},{\"id\":\"1744\"},{\"id\":\"1745\"},{\"id\":\"1746\"},{\"id\":\"1747\"}]},\"id\":\"1664\",\"type\":\"DatetimeTicker\"},{\"attributes\":{\"data\":{\"x\":[1217548800000.0,1220227200000.0,1222819200000.0,1225497600000.0,1228089600000.0,1230768000000.0,1233446400000.0,1235865600000.0,1238544000000.0,1241136000000.0],\"y\":[160,160,160,160,160,160,160,160,160,160]},\"selected\":{\"id\":\"1735\"},\"selection_policy\":{\"id\":\"1734\"}},\"id\":\"1651\",\"type\":\"ColumnDataSource\"},{\"attributes\":{},\"id\":\"1659\",\"type\":\"LinearScale\"},{\"attributes\":{\"mantissas\":[1,2,5],\"max_interval\":500.0,\"num_minor_ticks\":0},\"id\":\"1736\",\"type\":\"AdaptiveTicker\"},{\"attributes\":{},\"id\":\"1747\",\"type\":\"YearsTicker\"},{\"attributes\":{\"base\":24,\"mantissas\":[1,2,4,6,8,12],\"max_interval\":43200000.0,\"min_interval\":3600000.0,\"num_minor_ticks\":0},\"id\":\"1738\",\"type\":\"AdaptiveTicker\"},{\"attributes\":{},\"id\":\"1672\",\"type\":\"WheelZoomTool\"},{\"attributes\":{},\"id\":\"1668\",\"type\":\"BasicTicker\"},{\"attributes\":{\"data_source\":{\"id\":\"1651\"},\"glyph\":{\"id\":\"1685\"},\"hover_glyph\":null,\"muted_glyph\":null,\"nonselection_glyph\":{\"id\":\"1686\"},\"selection_glyph\":null,\"view\":{\"id\":\"1688\"}},\"id\":\"1687\",\"type\":\"GlyphRenderer\"},{\"attributes\":{},\"id\":\"1676\",\"type\":\"HelpTool\"},{\"attributes\":{},\"id\":\"1732\",\"type\":\"BasicTickFormatter\"},{\"attributes\":{},\"id\":\"1655\",\"type\":\"DataRange1d\"},{\"attributes\":{},\"id\":\"1674\",\"type\":\"SaveTool\"},{\"attributes\":{},\"id\":\"1675\",\"type\":\"ResetTool\"},{\"attributes\":{\"days\":[1,15]},\"id\":\"1742\",\"type\":\"DaysTicker\"},{\"attributes\":{\"line_color\":\"#1f77b4\",\"line_width\":2,\"x\":{\"field\":\"x\"},\"y\":{\"field\":\"y\"}},\"id\":\"1685\",\"type\":\"Line\"},{\"attributes\":{\"text\":\"01. Default Sales Data\"},\"id\":\"1653\",\"type\":\"Title\"},{\"attributes\":{\"months\":[0,4,8]},\"id\":\"1745\",\"type\":\"MonthsTicker\"},{\"attributes\":{},\"id\":\"1657\",\"type\":\"DataRange1d\"},{\"attributes\":{\"source\":{\"id\":\"1651\"}},\"id\":\"1688\",\"type\":\"CDSView\"},{\"attributes\":{\"line_alpha\":0.1,\"line_color\":\"#1f77b4\",\"line_width\":2,\"x\":{\"field\":\"x\"},\"y\":{\"field\":\"y\"}},\"id\":\"1686\",\"type\":\"Line\"}],\"root_ids\":[\"1652\"]},\"title\":\"Bokeh Application\",\"version\":\"2.0.0\"}};\n",
       "  var render_items = [{\"docid\":\"e71fba2d-01bd-4ef7-8f88-eb74c1671933\",\"notebook_comms_target\":\"1749\",\"root_ids\":[\"1652\"],\"roots\":{\"1652\":\"a3dc16a0-a1b4-4694-a669-814254f739f2\"}}];\n",
       "  root.Bokeh.embed.embed_items_notebook(docs_json, render_items);\n",
       "\n",
       "  }\n",
       "  if (root.Bokeh !== undefined) {\n",
       "    embed_document(root);\n",
       "  } else {\n",
       "    var attempts = 0;\n",
       "    var timer = setInterval(function(root) {\n",
       "      if (root.Bokeh !== undefined) {\n",
       "        clearInterval(timer);\n",
       "        embed_document(root);\n",
       "      } else {\n",
       "        attempts++;\n",
       "        if (attempts > 100) {\n",
       "          clearInterval(timer);\n",
       "          console.log(\"Bokeh: ERROR: Unable to run BokehJS code because BokehJS library is missing\");\n",
       "        }\n",
       "      }\n",
       "    }, 10, root)\n",
       "  }\n",
       "})(window);"
      ],
      "application/vnd.bokehjs_exec.v0+json": ""
     },
     "metadata": {
      "application/vnd.bokehjs_exec.v0+json": {
       "id": "1652"
      }
     },
     "output_type": "display_data"
    },
    {
     "data": {
      "application/vnd.jupyter.widget-view+json": {
       "model_id": "e97a7aa0008643b6b390f5a79a6789e7",
       "version_major": 2,
       "version_minor": 0
      },
      "text/plain": [
       "interactive(children=(IntText(value=160, description='Level'), DatePicker(value=datetime.date(2008, 8, 1), des…"
      ]
     },
     "metadata": {},
     "output_type": "display_data"
    },
    {
     "data": {
      "text/plain": [
       "<function __main__.updateBasePlot(level, startdate, intervalType, intervals)>"
      ]
     },
     "execution_count": 16,
     "metadata": {},
     "output_type": "execute_result"
    }
   ],
   "source": [
    "display(HTML('<h2>Setting up the starting values<h2>'))\n",
    "show(p, notebook_handle=True)\n",
    "interact(updateBasePlot, level=level, startdate=startdate, intervalType=intervalType, intervals=intervals)\n"
   ]
  },
  {
   "cell_type": "code",
   "execution_count": 6,
   "metadata": {},
   "outputs": [
    {
     "data": {
      "text/html": [
       "<h2>Choose the trend-type</h2>"
      ],
      "text/plain": [
       "<IPython.core.display.HTML object>"
      ]
     },
     "metadata": {},
     "output_type": "display_data"
    },
    {
     "data": {
      "application/vnd.jupyter.widget-view+json": {
       "model_id": "5079520008c0467b99b7f45755a90e2f",
       "version_major": 2,
       "version_minor": 0
      },
      "text/plain": [
       "Dropdown(description='Trend', options=('Constant', 'Linear', 'Curve'), value='Constant')"
      ]
     },
     "metadata": {},
     "output_type": "display_data"
    }
   ],
   "source": [
    "display(HTML('<h2>Choose the trend-type</h2>'))\n",
    "display(trend)"
   ]
  },
  {
   "cell_type": "code",
   "execution_count": 21,
   "metadata": {
    "scrolled": false
   },
   "outputs": [
    {
     "data": {
      "text/html": [
       "<h2>Choose A and B: (<code>y = Ax<sup>2</sup> + Bx + c </code>)</h2>"
      ],
      "text/plain": [
       "<IPython.core.display.HTML object>"
      ]
     },
     "metadata": {},
     "output_type": "display_data"
    },
    {
     "data": {
      "text/html": [
       "\n",
       "\n",
       "\n",
       "\n",
       "\n",
       "\n",
       "  <div class=\"bk-root\" id=\"1f3010cb-7176-4ea9-8b52-4358d50fac47\" data-root-id=\"3057\"></div>\n"
      ]
     },
     "metadata": {},
     "output_type": "display_data"
    },
    {
     "data": {
      "application/javascript": [
       "(function(root) {\n",
       "  function embed_document(root) {\n",
       "    \n",
       "  var docs_json = {\"03c57d95-723c-47b1-92db-563256f51dab\":{\"roots\":{\"references\":[{\"attributes\":{\"children\":[{\"id\":\"3016\"},{\"id\":\"3053\"},{\"id\":\"3054\"}]},\"id\":\"3057\",\"type\":\"Column\"},{\"attributes\":{\"end\":20,\"format\":\"0[.]00\",\"js_property_callbacks\":{\"change:value\":[{\"id\":\"3055\"}]},\"start\":-20,\"step\":0.1,\"title\":\"B\",\"value\":0},\"id\":\"3054\",\"type\":\"Slider\"},{\"attributes\":{},\"id\":\"3040\",\"type\":\"HelpTool\"},{\"attributes\":{\"days\":[1,15]},\"id\":\"3211\",\"type\":\"DaysTicker\"},{\"attributes\":{\"end\":2.0,\"format\":\"0[.]00\",\"js_property_callbacks\":{\"change:value\":[{\"id\":\"3055\"}]},\"start\":-2.0,\"step\":0.1,\"title\":\"A\",\"value\":0},\"id\":\"3053\",\"type\":\"Slider\"},{\"attributes\":{\"data_source\":{\"id\":\"3015\"},\"glyph\":{\"id\":\"3049\"},\"hover_glyph\":null,\"muted_glyph\":null,\"nonselection_glyph\":{\"id\":\"3050\"},\"selection_glyph\":null,\"view\":{\"id\":\"3052\"}},\"id\":\"3051\",\"type\":\"GlyphRenderer\"},{\"attributes\":{\"active_drag\":\"auto\",\"active_inspect\":\"auto\",\"active_multi\":null,\"active_scroll\":\"auto\",\"active_tap\":\"auto\",\"tools\":[{\"id\":\"3035\"},{\"id\":\"3036\"},{\"id\":\"3037\"},{\"id\":\"3038\"},{\"id\":\"3039\"},{\"id\":\"3040\"}]},\"id\":\"3041\",\"type\":\"Toolbar\"},{\"attributes\":{\"months\":[0,1,2,3,4,5,6,7,8,9,10,11]},\"id\":\"3212\",\"type\":\"MonthsTicker\"},{\"attributes\":{\"text\":\"02. Apply TREND to the data\"},\"id\":\"3017\",\"type\":\"Title\"},{\"attributes\":{},\"id\":\"3199\",\"type\":\"DatetimeTickFormatter\"},{\"attributes\":{\"source\":{\"id\":\"3015\"}},\"id\":\"3052\",\"type\":\"CDSView\"},{\"attributes\":{\"months\":[0,2,4,6,8,10]},\"id\":\"3213\",\"type\":\"MonthsTicker\"},{\"attributes\":{},\"id\":\"3019\",\"type\":\"DataRange1d\"},{\"attributes\":{\"months\":[0,4,8]},\"id\":\"3214\",\"type\":\"MonthsTicker\"},{\"attributes\":{\"line_alpha\":0.1,\"line_color\":\"#1f77b4\",\"line_width\":2,\"x\":{\"field\":\"x\"},\"y\":{\"field\":\"y\"}},\"id\":\"3050\",\"type\":\"Line\"},{\"attributes\":{},\"id\":\"3021\",\"type\":\"DataRange1d\"},{\"attributes\":{\"months\":[0,6]},\"id\":\"3215\",\"type\":\"MonthsTicker\"},{\"attributes\":{\"args\":{\"A\":{\"id\":\"3053\"},\"B\":{\"id\":\"3054\"},\"C\":300,\"source\":{\"id\":\"3015\"}},\"code\":\"\\n    var data = source.data;\\n    var x = data['x_num'];\\n    var y = data['y'];\\n    for (var i = 0; i < x.length; i++) {\\n        y[i] = A.value * x[i] * x[i] + B.value * x[i] + C;\\n    }\\n    source.change.emit();\\n\"},\"id\":\"3055\",\"type\":\"CustomJS\"},{\"attributes\":{},\"id\":\"3023\",\"type\":\"LinearScale\"},{\"attributes\":{},\"id\":\"3216\",\"type\":\"YearsTicker\"},{\"attributes\":{\"data\":{\"x\":[1212278400000.0,1214870400000.0,1217548800000.0,1220227200000.0,1222819200000.0,1225497600000.0,1228089600000.0,1230768000000.0,1233446400000.0,1235865600000.0,1238544000000.0,1241136000000.0,1243814400000.0,1246406400000.0,1249084800000.0,1251763200000.0,1254355200000.0,1257033600000.0,1259625600000.0,1262304000000.0,1264982400000.0,1267401600000.0,1270080000000.0,1272672000000.0,1275350400000.0,1277942400000.0,1280620800000.0,1283299200000.0,1285891200000.0,1288569600000.0,1291161600000.0,1293840000000.0,1296518400000.0,1298937600000.0,1301616000000.0,1304208000000.0,1306886400000.0,1309478400000.0,1312156800000.0,1314835200000.0,1317427200000.0,1320105600000.0,1322697600000.0,1325376000000.0,1328054400000.0,1330560000000.0,1333238400000.0,1335830400000.0,1338508800000.0,1341100800000.0,1343779200000.0,1346457600000.0,1349049600000.0,1351728000000.0,1354320000000.0,1356998400000.0,1359676800000.0,1362096000000.0,1364774400000.0,1367366400000.0,1370044800000.0,1372636800000.0,1375315200000.0,1377993600000.0,1380585600000.0,1383264000000.0,1385856000000.0,1388534400000.0,1391212800000.0,1393632000000.0,1396310400000.0,1398902400000.0,1401580800000.0,1404172800000.0,1406851200000.0,1409529600000.0,1412121600000.0,1414800000000.0,1417392000000.0,1420070400000.0,1422748800000.0,1425168000000.0,1427846400000.0,1430438400000.0,1433116800000.0,1435708800000.0,1438387200000.0,1441065600000.0,1443657600000.0,1446336000000.0,1448928000000.0,1451606400000.0,1454284800000.0,1456790400000.0,1459468800000.0,1462060800000.0,1464739200000.0,1467331200000.0,1470009600000.0,1472688000000.0],\"x_num\":[0,1,2,3,4,5,6,7,8,9,10,11,12,13,14,15,16,17,18,19,20,21,22,23,24,25,26,27,28,29,30,31,32,33,34,35,36,37,38,39,40,41,42,43,44,45,46,47,48,49,50,51,52,53,54,55,56,57,58,59,60,61,62,63,64,65,66,67,68,69,70,71,72,73,74,75,76,77,78,79,80,81,82,83,84,85,86,87,88,89,90,91,92,93,94,95,96,97,98,99],\"y\":[300,300,300,300,300,300,300,300,300,300,300,300,300,300,300,300,300,300,300,300,300,300,300,300,300,300,300,300,300,300,300,300,300,300,300,300,300,300,300,300,300,300,300,300,300,300,300,300,300,300,300,300,300,300,300,300,300,300,300,300,300,300,300,300,300,300,300,300,300,300,300,300,300,300,300,300,300,300,300,300,300,300,300,300,300,300,300,300,300,300,300,300,300,300,300,300,300,300,300,300]},\"selected\":{\"id\":\"3204\"},\"selection_policy\":{\"id\":\"3203\"}},\"id\":\"3015\",\"type\":\"ColumnDataSource\"},{\"attributes\":{},\"id\":\"3025\",\"type\":\"LinearScale\"},{\"attributes\":{\"bottom_units\":\"screen\",\"fill_alpha\":0.5,\"fill_color\":\"lightgrey\",\"left_units\":\"screen\",\"level\":\"overlay\",\"line_alpha\":1.0,\"line_color\":\"black\",\"line_dash\":[4,4],\"line_width\":2,\"render_mode\":\"css\",\"right_units\":\"screen\",\"top_units\":\"screen\"},\"id\":\"3217\",\"type\":\"BoxAnnotation\"},{\"attributes\":{\"formatter\":{\"id\":\"3199\"},\"ticker\":{\"id\":\"3028\"}},\"id\":\"3027\",\"type\":\"DatetimeAxis\"},{\"attributes\":{\"num_minor_ticks\":5,\"tickers\":[{\"id\":\"3205\"},{\"id\":\"3206\"},{\"id\":\"3207\"},{\"id\":\"3208\"},{\"id\":\"3209\"},{\"id\":\"3210\"},{\"id\":\"3211\"},{\"id\":\"3212\"},{\"id\":\"3213\"},{\"id\":\"3214\"},{\"id\":\"3215\"},{\"id\":\"3216\"}]},\"id\":\"3028\",\"type\":\"DatetimeTicker\"},{\"attributes\":{\"axis\":{\"id\":\"3027\"},\"ticker\":null},\"id\":\"3030\",\"type\":\"Grid\"},{\"attributes\":{},\"id\":\"3203\",\"type\":\"UnionRenderers\"},{\"attributes\":{\"formatter\":{\"id\":\"3201\"},\"ticker\":{\"id\":\"3032\"}},\"id\":\"3031\",\"type\":\"LinearAxis\"},{\"attributes\":{},\"id\":\"3204\",\"type\":\"Selection\"},{\"attributes\":{\"line_color\":\"#1f77b4\",\"line_width\":2,\"x\":{\"field\":\"x\"},\"y\":{\"field\":\"y\"}},\"id\":\"3049\",\"type\":\"Line\"},{\"attributes\":{},\"id\":\"3032\",\"type\":\"BasicTicker\"},{\"attributes\":{\"mantissas\":[1,2,5],\"max_interval\":500.0,\"num_minor_ticks\":0},\"id\":\"3205\",\"type\":\"AdaptiveTicker\"},{\"attributes\":{},\"id\":\"3035\",\"type\":\"PanTool\"},{\"attributes\":{\"below\":[{\"id\":\"3027\"}],\"center\":[{\"id\":\"3030\"},{\"id\":\"3034\"}],\"left\":[{\"id\":\"3031\"}],\"plot_height\":200,\"plot_width\":720,\"renderers\":[{\"id\":\"3051\"}],\"title\":{\"id\":\"3017\"},\"toolbar\":{\"id\":\"3041\"},\"x_range\":{\"id\":\"3019\"},\"x_scale\":{\"id\":\"3023\"},\"y_range\":{\"id\":\"3021\"},\"y_scale\":{\"id\":\"3025\"}},\"id\":\"3016\",\"subtype\":\"Figure\",\"type\":\"Plot\"},{\"attributes\":{},\"id\":\"3036\",\"type\":\"WheelZoomTool\"},{\"attributes\":{\"base\":60,\"mantissas\":[1,2,5,10,15,20,30],\"max_interval\":1800000.0,\"min_interval\":1000.0,\"num_minor_ticks\":0},\"id\":\"3206\",\"type\":\"AdaptiveTicker\"},{\"attributes\":{},\"id\":\"3201\",\"type\":\"BasicTickFormatter\"},{\"attributes\":{\"base\":24,\"mantissas\":[1,2,4,6,8,12],\"max_interval\":43200000.0,\"min_interval\":3600000.0,\"num_minor_ticks\":0},\"id\":\"3207\",\"type\":\"AdaptiveTicker\"},{\"attributes\":{\"days\":[1,2,3,4,5,6,7,8,9,10,11,12,13,14,15,16,17,18,19,20,21,22,23,24,25,26,27,28,29,30,31]},\"id\":\"3208\",\"type\":\"DaysTicker\"},{\"attributes\":{\"overlay\":{\"id\":\"3217\"}},\"id\":\"3037\",\"type\":\"BoxZoomTool\"},{\"attributes\":{\"axis\":{\"id\":\"3031\"},\"dimension\":1,\"ticker\":null},\"id\":\"3034\",\"type\":\"Grid\"},{\"attributes\":{\"days\":[1,4,7,10,13,16,19,22,25,28]},\"id\":\"3209\",\"type\":\"DaysTicker\"},{\"attributes\":{},\"id\":\"3038\",\"type\":\"SaveTool\"},{\"attributes\":{\"days\":[1,8,15,22]},\"id\":\"3210\",\"type\":\"DaysTicker\"},{\"attributes\":{},\"id\":\"3039\",\"type\":\"ResetTool\"}],\"root_ids\":[\"3057\"]},\"title\":\"Bokeh Application\",\"version\":\"2.0.0\"}};\n",
       "  var render_items = [{\"docid\":\"03c57d95-723c-47b1-92db-563256f51dab\",\"root_ids\":[\"3057\"],\"roots\":{\"3057\":\"1f3010cb-7176-4ea9-8b52-4358d50fac47\"}}];\n",
       "  root.Bokeh.embed.embed_items_notebook(docs_json, render_items);\n",
       "\n",
       "  }\n",
       "  if (root.Bokeh !== undefined) {\n",
       "    embed_document(root);\n",
       "  } else {\n",
       "    var attempts = 0;\n",
       "    var timer = setInterval(function(root) {\n",
       "      if (root.Bokeh !== undefined) {\n",
       "        clearInterval(timer);\n",
       "        embed_document(root);\n",
       "      } else {\n",
       "        attempts++;\n",
       "        if (attempts > 100) {\n",
       "          clearInterval(timer);\n",
       "          console.log(\"Bokeh: ERROR: Unable to run BokehJS code because BokehJS library is missing\");\n",
       "        }\n",
       "      }\n",
       "    }, 10, root)\n",
       "  }\n",
       "})(window);"
      ],
      "application/vnd.bokehjs_exec.v0+json": ""
     },
     "metadata": {
      "application/vnd.bokehjs_exec.v0+json": {
       "id": "3057"
      }
     },
     "output_type": "display_data"
    }
   ],
   "source": [
    "startdatetime = datetime(startdate.value.year, startdate.value.month, startdate.value.day)\n",
    "x = [startdatetime + dateDelta * n for n in range(intervals.value)]\n",
    "y = [level.value for i in range(intervals.value)]\n",
    "x_num = [n for n in range(intervals.value)]\n",
    "\n",
    "source = ColumnDataSource(data=dict(x=x, y=y, x_num=x_num))\n",
    "\n",
    "plot = figure(x_axis_type=\"datetime\", plot_width = 720, plot_height=200, title=\"02. Apply TREND to the data\")\n",
    "plot.line(x='x', y='y', source=source, line_width=2)\n",
    "\n",
    "sliderA = Slider(start=-2.0, end=2.0, value=0, step=.1, title=\"A\")\n",
    "sliderB = Slider(start=-20, end=20, value=0, step=.1, title=\"B\")\n",
    "    \n",
    "update_curve = CustomJS(args=dict(source=source, A=sliderA, B=sliderB, C=level.value), code=\"\"\"\n",
    "    var data = source.data;\n",
    "    var x = data['x_num'];\n",
    "    var y = data['y'];\n",
    "    for (var i = 0; i < x.length; i++) {\n",
    "        y[i] = A.value * x[i] * x[i] + B.value * x[i] + C;\n",
    "    }\n",
    "    source.change.emit();\n",
    "\"\"\")\n",
    "col = column(plot)\n",
    "if trend.value == 'Linear':\n",
    "    display(HTML('<h2>Choose the Slope(<code>y = Bx + c</code>)</h2>'))\n",
    "    col = column(plot, sliderB)\n",
    "    sliderB.js_on_change('value', update_curve)\n",
    "elif trend.value == 'Curve':\n",
    "    display(HTML('<h2>Choose A and B: (<code>y = Ax<sup>2</sup> + Bx + c </code>)</h2>'))\n",
    "    col = column(plot, sliderA, sliderB)\n",
    "    sliderA.js_on_change('value', update_curve)\n",
    "    sliderB.js_on_change('value', update_curve)\n",
    "else:\n",
    "    display(HTML('<h2>Trend is Constant (<code>y = level</code>)'))\n",
    "show(col)"
   ]
  },
  {
   "cell_type": "code",
   "execution_count": 9,
   "metadata": {},
   "outputs": [
    {
     "data": {
      "text/html": [
       "<h2>Choose the seasonal pattern</h2>"
      ],
      "text/plain": [
       "<IPython.core.display.HTML object>"
      ]
     },
     "metadata": {},
     "output_type": "display_data"
    },
    {
     "data": {
      "application/vnd.jupyter.widget-view+json": {
       "model_id": "269d2b7d81c1496f81f4dea1acd02db8",
       "version_major": 2,
       "version_minor": 0
      },
      "text/plain": [
       "interactive(children=(IntSlider(value=100, description='A', max=300, min=-100), IntSlider(value=4, description…"
      ]
     },
     "metadata": {},
     "output_type": "display_data"
    },
    {
     "data": {
      "image/png": "[encoded data removed]",
      "text/plain": [
       "<Figure size 432x288 with 4 Axes>"
      ]
     },
     "metadata": {
      "needs_background": "light"
     },
     "output_type": "display_data"
    }
   ],
   "source": [
    "%matplotlib inline\n",
    "import matplotlib.pyplot as plt\n",
    "\n",
    "display(HTML('<h2>Choose the seasonal pattern</h2>'))\n",
    "\n",
    "x = np.linspace(1, intervals.value, intervals.value, endpoint=False)\n",
    "fig, (ax1, ax2, ax3, ax4) = plt.subplots(4, sharex=True)\n",
    "\n",
    "def f_sin(A, w, p):\n",
    "    sin1 = level.value + A * np.sin(2 * np.pi* w * x - p)\n",
    "    ax1.plot(x, sin1)\n",
    "\n",
    "i1 = interactive(f_sin, A=100, w=4, p=2)\n",
    "\n",
    "display(i1)\n"
   ]
  },
  {
   "cell_type": "code",
   "execution_count": 10,
   "metadata": {},
   "outputs": [],
   "source": [
    "# %matplotlib inline\n",
    "# import matplotlib.pyplot as plt\n",
    "\n",
    "# # define axes if we want to put multiple plots in the same fig\n",
    "# ax = plt.gca()\n",
    "\n",
    "# df.plot(kind='line', x='week', y='baseline', color='blue', figsize=(12, 6), ax=ax)\n",
    "# df.plot(kind='line', x='week', y='final', color='red', figsize=(12, 6), ax=ax)\n",
    "# plt.show()"
   ]
  },
  {
   "cell_type": "code",
   "execution_count": null,
   "metadata": {},
   "outputs": [],
   "source": []
  },
  {
   "cell_type": "code",
   "execution_count": 11,
   "metadata": {},
   "outputs": [
    {
     "data": {
      "text/plain": [
       "[<matplotlib.lines.Line2D at 0x26622e4a2e8>]"
      ]
     },
     "execution_count": 11,
     "metadata": {},
     "output_type": "execute_result"
    },
    {
     "data": {
      "image/png": "[encoded data removed]",
      "text/plain": [
       "<Figure size 864x432 with 4 Axes>"
      ]
     },
     "metadata": {
      "needs_background": "light"
     },
     "output_type": "display_data"
    }
   ],
   "source": [
    "import matplotlib.pyplot as plt\n",
    "from scipy import signal\n",
    "\n",
    "t = np.linspace(1, 200, 200, endpoint=False)\n",
    "\n",
    "plt.figure(figsize=(12,6))\n",
    "\n",
    "plt.subplot(4, 1, 1)\n",
    "sig1 = 5 * np.sin(2 * np.pi * t * 12)\n",
    "plt.plot(t, sig1)\n",
    "\n",
    "plt.subplot(4, 1, 2)\n",
    "sig2 = 5 * np.sin(-2 * np.pi * t * 6)\n",
    "plt.plot(t, sig2)\n",
    "\n",
    "plt.subplot(4, 1, 3)\n",
    "sig3 = 1 * np.sin(2 * np.pi * t )\n",
    "plt.plot(t, sig3)\n",
    "\n",
    "plt.subplot(4, 1, 4)\n",
    "sig4 = sig1 + sig2 \n",
    "plt.plot(t, sig4)\n"
   ]
  },
  {
   "cell_type": "code",
   "execution_count": 12,
   "metadata": {},
   "outputs": [],
   "source": [
    "# the simplest form of periodic data is y(t) =A cos(ωt) +B sin(ωt)\n",
    "# The period of y(t) is the shortest time taken for y(t) to repeat itself, and it is 2π/ω\n",
    "# y(t) =(k=1 to infinity)∑[A_k cos(ω_k t) + B_k sin(ω_k t)]\n",
    "# Fourier expansion of y(t)"
   ]
  }
 ],
 "metadata": {
  "kernelspec": {
   "display_name": "Python 3",
   "language": "python",
   "name": "python3"
  },
  "language_info": {
   "codemirror_mode": {
    "name": "ipython",
    "version": 3
   },
   "file_extension": ".py",
   "mimetype": "text/x-python",
   "name": "python",
   "nbconvert_exporter": "python",
   "pygments_lexer": "ipython3",
   "version": "3.7.3"
  }
 },
 "nbformat": 4,
 "nbformat_minor": 2
}
